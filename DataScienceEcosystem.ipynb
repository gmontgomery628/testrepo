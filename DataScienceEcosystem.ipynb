{
 "cells": [
  {
   "cell_type": "markdown",
   "id": "649c0583-668a-4bcf-9880-4c1d222270c2",
   "metadata": {},
   "source": [
    "# Data Science Tools and Ecosystem"
   ]
  },
  {
   "cell_type": "markdown",
   "id": "7ef921c9-4616-4194-9f1d-24712f286525",
   "metadata": {},
   "source": [
    "### In this notebook, Data Science Tools and Ecosystems are summarized."
   ]
  },
  {
   "cell_type": "markdown",
   "id": "9212cc9a-b647-405e-b1e4-dde9f703f0f8",
   "metadata": {},
   "source": [
    "### **Objectives**\n",
    "* List of popular languages for Data Scientists\n",
    "* List of commonly used libraries by Data Scientists\n",
    "* List of develop environment open source tools used in Data Science\n",
    "* Examples of evaluating arithmetic expressions in Python"
   ]
  },
  {
   "cell_type": "markdown",
   "id": "ad251db5-04d5-4236-9080-3e85c507eba9",
   "metadata": {},
   "source": [
    "#### Some of the popular languages that Data Scientists use are:\n",
    "1. Python\n",
    "2. R\n",
    "3. SQL\n",
    "4. Scala\n",
    "5. Java\n",
    "6. C++\n",
    "7. Julia"
   ]
  },
  {
   "cell_type": "markdown",
   "id": "b4d8df32-3857-4460-b3f7-123a2b6758fb",
   "metadata": {},
   "source": [
    "#### Some of the commonly used libraries used by Data Scientists include:\n",
    "\n",
    "1. Scientific Computing Libraries such as pandas and NumPy\n",
    "2. Visualization Libraries such as MatplotLib and Seaborn\n",
    "3. Machine Learning Libraries such as Scikit-learn\n",
    "4. Deep Learning Libraries such as Keras and TensorFlow"
   ]
  },
  {
   "cell_type": "markdown",
   "id": "1ea60a24-7958-495a-8270-ec7156be4314",
   "metadata": {},
   "source": [
    "|Data Science Tools|\n",
    "|---|\n",
    "|Jupyter Notebooks|\n",
    "|R Studio|\n",
    "|Spyder|"
   ]
  },
  {
   "cell_type": "markdown",
   "id": "42a02115-2ba3-4e57-8a01-f9adda7935b7",
   "metadata": {},
   "source": [
    "### Below are a few examples of evaluating arithmetic expressions in Python"
   ]
  },
  {
   "cell_type": "code",
   "execution_count": 5,
   "id": "e36b62c5-9c74-4641-9b93-acdc86712fca",
   "metadata": {},
   "outputs": [
    {
     "data": {
      "text/plain": [
       "17"
      ]
     },
     "execution_count": 5,
     "metadata": {},
     "output_type": "execute_result"
    }
   ],
   "source": [
    "#This is a simple arithmetic expression to multiply and then add integers.\n",
    "\n",
    "(3*4)+5"
   ]
  },
  {
   "cell_type": "code",
   "execution_count": 6,
   "id": "959fd027-dcb3-43e5-ac92-3fb3181503b0",
   "metadata": {},
   "outputs": [
    {
     "data": {
      "text/plain": [
       "3.3333333333333335"
      ]
     },
     "execution_count": 6,
     "metadata": {},
     "output_type": "execute_result"
    }
   ],
   "source": [
    "# This will convert 200 minutes to hours by dividing by 60\n",
    "\n",
    "(200/60)"
   ]
  },
  {
   "cell_type": "markdown",
   "id": "63bf4f5e-85bb-47ca-895f-b88fc875c229",
   "metadata": {},
   "source": [
    "## Author\n",
    "\n",
    "Gwen Montgomery"
   ]
  },
  {
   "cell_type": "code",
   "execution_count": null,
   "id": "89bb9b60-5674-4dc3-b363-f78526fea485",
   "metadata": {},
   "outputs": [],
   "source": []
  }
 ],
 "metadata": {
  "kernelspec": {
   "display_name": "Python [conda env:RP_Env]",
   "language": "python",
   "name": "conda-env-RP_Env-py"
  },
  "language_info": {
   "codemirror_mode": {
    "name": "ipython",
    "version": 3
   },
   "file_extension": ".py",
   "mimetype": "text/x-python",
   "name": "python",
   "nbconvert_exporter": "python",
   "pygments_lexer": "ipython3",
   "version": "3.13.5"
  }
 },
 "nbformat": 4,
 "nbformat_minor": 5
}
